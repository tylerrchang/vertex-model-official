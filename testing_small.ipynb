version https://git-lfs.github.com/spec/v1
oid sha256:d6c9d7f15c90c106668ca5b2c61d78278a05fb11c2eeec6f39cf688e228e0c85
size 28613
