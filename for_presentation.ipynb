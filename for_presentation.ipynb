version https://git-lfs.github.com/spec/v1
oid sha256:9dbbb12fcfd338b0c03c580892fc334f6e4ad10709b3b3237a009f90f63568b6
size 53391
