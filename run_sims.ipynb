version https://git-lfs.github.com/spec/v1
oid sha256:efacbc4493d342de473c910a702a36c71c7e397d9dd2e455b96c04f6a1fd99ba
size 674600
