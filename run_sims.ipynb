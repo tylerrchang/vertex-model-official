{
 "cells": [
  {
   "cell_type": "code",
   "execution_count": null,
   "metadata": {},
   "outputs": [],
   "source": [
    "%reset -f\n",
    "import matplotlib.pyplot as plt\n",
    "import os\n",
    "import numpy as np\n",
    "import parsing\n",
    "import copy\n",
    "import vertex\n",
    "import time\n",
    "import movement\n",
    "import cell\n",
    "import geometry\n",
    "import data_holder\n",
    "import math\n",
    "import h5py\n",
    "import simulate\n",
    "import csv\n",
    "import pandas as pd\n",
    "import plotting\n",
    "%load_ext autoreload\n",
    "%autoreload 2\n",
    "%reload_ext autoreload\n",
    "%matplotlib inline"
   ]
  },
  {
   "cell_type": "markdown",
   "metadata": {},
   "source": [
    "# Run One"
   ]
  },
  {
   "cell_type": "code",
   "execution_count": null,
   "metadata": {},
   "outputs": [],
   "source": [
    "path = \"output5.hdf5\"\n",
    "\n",
    "simulate.run_active_vertex_model(\n",
    "    \"vertices_big.csv\",\n",
    "    \"cell_indices_big.csv\",\n",
    "    path,\n",
    "    KA=1,\n",
    "    KP=1,\n",
    "    dt=0.001,\n",
    "    D=1,\n",
    "    v0=1.5,\n",
    "    max_time=0.5,\n",
    "    p0=3.85,\n",
    ")"
   ]
  },
  {
   "cell_type": "code",
   "execution_count": null,
   "metadata": {},
   "outputs": [],
   "source": [
    "# path = \"output_no_motion.hdf5\"\n",
    "# plt.rcParams['animation.embed_limit'] = 80\n",
    "# anim = plotting.plot_data(path, stepsize=)\n",
    "# anim.save(\"figures/vertex_no_motion.mp4\", writer=\"ffmpeg\")"
   ]
  },
  {
   "cell_type": "code",
   "execution_count": null,
   "metadata": {},
   "outputs": [],
   "source": [
    "# path = \"output4.hdf5\"\n",
    "plt.rcParams[\"animation.embed_limit\"] = 80\n",
    "anim = plotting.plot_data(path, stepsize=20)\n",
    "from IPython.display import HTML\n",
    "HTML(anim.to_jshtml())"
   ]
  },
  {
   "cell_type": "markdown",
   "metadata": {},
   "source": [
    "# Run Lots"
   ]
  },
  {
   "cell_type": "code",
   "execution_count": null,
   "metadata": {},
   "outputs": [],
   "source": [
    "# Lots of Sims\n",
    "v0s = list(np.arange(0, 2.6, 0.5))\n",
    "p0s = list(np.arange(0, 3.6, 0.5))\n",
    "p0_count = 0\n",
    "for p0 in p0s:\n",
    "    v0_count = 0\n",
    "    for v0 in v0s:\n",
    "        path = f\"output_files/output{p0_count}{v0_count}_p{p0}_v{v0}.hdf5\"\n",
    "        simulate.run_active_vertex_model(\n",
    "            \"vertices_big.csv\",\n",
    "            \"cell_indices_big.csv\",\n",
    "            path,\n",
    "            KA=1,\n",
    "            KP=1,\n",
    "            dt=0.001,\n",
    "            D=1,\n",
    "            v0=v0,\n",
    "            max_time=4,\n",
    "            p0=p0,\n",
    "        )\n",
    "        v0_count += 1\n",
    "    p0_count += 1"
   ]
  },
  {
   "cell_type": "code",
   "execution_count": null,
   "metadata": {},
   "outputs": [],
   "source": [
    "plt.rcParams[\"animation.embed_limit\"] = 80\n",
    "v0s = list(np.arange(0, 2.6, 0.5))\n",
    "p0s = list(np.arange(0, 3.6, 0.5))\n",
    "p0_count = 0\n",
    "for p0 in p0s:\n",
    "    v0_count = 0\n",
    "    for v0 in v0s:\n",
    "        path = f\"output_files/output{p0_count}{v0_count}_p{p0}_v{v0}.hdf5\"\n",
    "        anim = plotting.plot_data(path, stepsize=100)\n",
    "        anim.save(\n",
    "            f\"animations/model{p0_count}{v0_count}_p{p0}_v{v0}.mp4\", writer=\"ffmpeg\"\n",
    "        )\n",
    "        v0_count += 1\n",
    "    p0_count += 1"
   ]
  }
 ],
 "metadata": {
  "language_info": {
   "name": "python"
  }
 },
 "nbformat": 4,
 "nbformat_minor": 2
}
